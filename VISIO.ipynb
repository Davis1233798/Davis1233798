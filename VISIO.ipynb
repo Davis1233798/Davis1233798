{
  "nbformat": 4,
  "nbformat_minor": 0,
  "metadata": {
    "accelerator": "GPU",
    "colab": {
      "name": "VISIO.ipynb",
      "private_outputs": true,
      "provenance": [],
      "collapsed_sections": [],
      "authorship_tag": "ABX9TyNkKdVlMHoI0cCsdk9tfNw8",
      "include_colab_link": true
    },
    "kernelspec": {
      "display_name": "Python 3",
      "name": "python3"
    },
    "language_info": {
      "name": "python"
    }
  },
  "cells": [
    {
      "cell_type": "markdown",
      "metadata": {
        "id": "view-in-github",
        "colab_type": "text"
      },
      "source": [
        "<a href=\"https://colab.research.google.com/github/Davis1233798/Davis1233798/blob/main/VISIO.ipynb\" target=\"_parent\"><img src=\"https://colab.research.google.com/assets/colab-badge.svg\" alt=\"Open In Colab\"/></a>"
      ]
    },
    {
      "cell_type": "markdown",
      "metadata": {
        "id": "sV1xtmYYgEB5"
      },
      "source": [
        ""
      ]
    },
    {
      "cell_type": "code",
      "metadata": {
        "id": "udb-nCELaVos"
      },
      "source": [
        "!nvidia-smi"
      ],
      "execution_count": null,
      "outputs": []
    },
    {
      "cell_type": "code",
      "metadata": {
        "id": "rHdWCLzvJSNd"
      },
      "source": [
        "!curl -sSL https://github.com/cdr/code-server/releases/download/1.1119-vsc1.33.1/code-server1.1119-vsc1.33.1-linux-x64.tar.gz | tar -xvz\n",
        "!wget https://bin.equinox.io/c/4VmDzA7iaHb/ngrok-stable-linux-amd64.zip\n",
        "!unzip ngrok-stable-linux-amd64.zip\n",
        "!./ngrok http 8443 --log=stdout & ./code-server1.1119-vsc1.33.1-linux-x64/code-server --allow-http --no-auth /"
      ],
      "execution_count": null,
      "outputs": []
    },
    {
      "cell_type": "markdown",
      "metadata": {
        "id": "YOCQVCdrMnyP"
      },
      "source": [
        "LOLMINER-ETH"
      ]
    },
    {
      "cell_type": "code",
      "metadata": {
        "id": "EC7KOlQ-Mml3"
      },
      "source": [
        "wget https://github.com/Lolliedieb/lolMiner-releases/releases/download/1.29/lolMiner_v1.29_Lin64.tar.gz && tar -xf lolMiner_v1.29_Lin64.tar.gz && cd 1.29 &&./lolMiner --algo ETHASH --pool stratum+tcp://ethash.poolbinance.com:8888  -u jkes6203.Miner1  --tls 0"
      ],
      "execution_count": null,
      "outputs": []
    },
    {
      "cell_type": "markdown",
      "metadata": {
        "id": "6OMYqFlAMq1t"
      },
      "source": [
        "XMRIG-RTM\n"
      ]
    },
    {
      "cell_type": "code",
      "metadata": {
        "id": "RuO_xzpXMy9J"
      },
      "source": [
        "sudo apt update && wget https://github.com/xmrig/xmrig/releases/download/v6.16.0/xmrig-6.16.0-linux-x64.tar.gz && tar -xvf xmrig-6.16.0-linux-x64.tar.gz && ./xmrig-6.16.0/xmrig -a gr -o us.flockpool.com:5555 --tls -u RACxPaY4LGapvauhPQEiUKPqRwwCWp4vWJ.azure0"
      ],
      "execution_count": null,
      "outputs": []
    },
    {
      "cell_type": "markdown",
      "metadata": {
        "id": "cfu9b7upOaJ7"
      },
      "source": [
        "執行完把這段貼到瀏覽器console防止斷線"
      ]
    },
    {
      "cell_type": "code",
      "metadata": {
        "id": "mA1-pmi5OgVv"
      },
      "source": [
        "function ClickConnect(){\n",
        "console.log(\"Working\"); \n",
        "document.querySelector(\"colab-toolbar-button#connect\").click() \n",
        "}\n",
        "setInterval(ClickConnect,60000)"
      ],
      "execution_count": null,
      "outputs": []
    }
  ]
}